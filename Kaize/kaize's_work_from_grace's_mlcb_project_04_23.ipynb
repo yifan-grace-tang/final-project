{
  "nbformat": 4,
  "nbformat_minor": 0,
  "metadata": {
    "colab": {
      "provenance": [],
      "gpuType": "T4",
      "machine_shape": "hm"
    },
    "kernelspec": {
      "name": "python3",
      "display_name": "Python 3"
    },
    "language_info": {
      "name": "python"
    },
    "accelerator": "GPU"
  },
  "cells": [
    {
      "cell_type": "markdown",
      "source": [
        "<table style=\"background-color: transparent; border: none;\">   \n",
        "  <tr>  \n",
        "    <td>\n",
        "    <br/>   \n",
        "    <img src=\"https://cdn.prod.website-files.com/6606dc3fd5f6645318003df4/6678476dc198b5a75b8c8873_ES_Logo_Black_5.png\" width=\"75\" alt=\"img\"/>\n",
        "    <br/>\n",
        "    </td>     \n",
        "    <td><h1>Project Research&nbsp&nbsp&nbsp</h1></td>   \n",
        "    \n",
        "  </tr>\n",
        "</table>\n",
        "\n",
        "</br>\n",
        "\n",
        "> __Author:__ Grace Tang\n",
        "\n",
        "> __Edited:__ `04.22.25`\n",
        "\n",
        "---\n",
        "<br/>\n",
        "\n",
        "#### __Description__\n",
        "\n",
        "Predicting the functions of proteins is an essential problem in the study of proteins. Many previous works developed computational methods that utilize protein sequence information to predict protein functions. With the advancement of `AlphaFold2`, accurate protein structure data has been available for hundreds of millions of proteins.\n",
        "\n",
        "Incorporating structure information should be able to further boost the performance of protein function prediction methods. There are several potential ways to utilize the structure information: use computer-vision-like models to extract information from contact maps; use graph neural networks to encode 3D structures; use pretrained protein structure model (e.g., `ESM-IF`).\n",
        "\n",
        "In addition, with the advancement of LLMs, the text annotations of proteins can also be leveraged as an extra information source for protein function prediction, e.g., use LLM as encoder to encode the text annotations of proteins. Utilizing the information from sequence, structure, and text annotations, we can develop a model that accurately predicts protein functions.\n",
        "\n",
        "__Using a subset of the dataset used for [DeepFRI](https://github.com/flatironinstitute/DeepFRI) (a similar protein function prediction model) we aim to coallesce sequence data and structure data to predict protein function in the form of [EC Numbers](https://en.wikipedia.org/wiki/Enzyme_Commission_number).__\n",
        "\n",
        "[[1]](ttps://www.biorxiv.org/content/10.1101/2022.11.29.518451v1), [[2]](https://www.nature.com/articles/s42003-024-07359-z), [[3]](https://www.nature.com/articles/s41467-021-23303-9), [[4]](https://www.biorxiv.org/content/10.1101/2024.05.14.594226v1 )\n"
      ],
      "metadata": {
        "id": "dHJe_PL6ooeo"
      }
    },
    {
      "cell_type": "markdown",
      "source": [
        "#### Methodology\n",
        "\n",
        "> _This section relies on having_ `annotations.tsv`, `train.txt`, `validation.txt`, _and_ `sequences.fasta` _in your runtime_\n",
        "\n",
        "We need a model that turns raw protein sequences into one or more EC numbers. Our goal is simplicity, speed, and the ability to predict multiple functions per protein.\n",
        "\n",
        "__Embedding:__\n",
        "\n",
        "We map each amino acid to a **128-dimensional vector** via a small, learnable embedding layer.  \n",
        "  - Captures key sequence patterns  without the heavy storage or compute of large pre-trained models.  \n",
        "  - Fits comfortably in GPU memory when training on ~15,000 proteins.\n",
        "\n",
        "__Pooling:__\n",
        "\n",
        "We apply **masked mean pooling** to average embeddings across the sequence.  \n",
        "  - Converts variable-length sequences into fixed-size fingerprints.  \n",
        "  - Ensures padding tokens do not skew the average, keeping representations true to the real residues.\n",
        "\n",
        "__Model Architecture:__\n",
        "\n",
        "A simple two-layer feedforward network with a 256-unit hidden layer and 50% dropout.  \n",
        "  - Two layers os enough capacity to learn interactions between sequence features, but not so deep as to overfit.  \n",
        "  - Dropout promotes generalization by preventing reliance on any single feature.\n",
        "\n",
        "Each EC category is a separate output node with a sigmoid activation, trained using binary cross-entropy.  \n",
        "  - Proteins can carry **multiple EC numbers**.  \n",
        "  - Independent sigmoids allow the model to assign all applicable ECs without forcing a single choice.\n",
        "\n",
        "__Training:__\n",
        "\n",
        "- **Loss:** `BCEWithLogitsLoss` for multi-label classification  \n",
        "- **Batch size:** `32`  \n",
        "- **Optimizer:** `AdamW` (`lr=1e-3`, `weight_decay=1e-5`)  \n",
        "- **Epochs:** `10` (monitor validation `F1` for early stopping)  \n",
        "\n",
        "__Next Steps:__\n",
        "\n",
        "- **Threshold Calibration:** Use validation data to pick optimal probability cutoffs for each EC.  \n",
        "- **Feature Extensions:** Add graphical information from a contact map into the embedding __and__ pick a less expensive sequence embedding approach then `ESM` to do the sequence embeddings.\n"
      ],
      "metadata": {
        "id": "D9-0TiBuCrpy"
      }
    },
    {
      "cell_type": "code",
      "source": [
        "import os\n",
        "import torch\n",
        "import pandas as pd\n",
        "from torch.utils.data import Dataset, DataLoader\n",
        "import torch.nn as nn\n",
        "import torch.optim as optim\n",
        "from sklearn.metrics import precision_score, recall_score, f1_score\n",
        "from torch.nn.utils.rnn import pad_sequence"
      ],
      "metadata": {
        "id": "0q7xGeHOFmAB"
      },
      "execution_count": 11,
      "outputs": []
    },
    {
      "cell_type": "code",
      "source": [
        "def parse_fasta(path):\n",
        "    seqs = {}\n",
        "    with open(path) as f:\n",
        "        curr, lines = None, []\n",
        "        for line in f:\n",
        "            if line.startswith('>'):\n",
        "                if curr:\n",
        "                    seqs[curr] = ''.join(lines)\n",
        "                curr = line[1:].split()[0]\n",
        "                lines = []\n",
        "            else:\n",
        "                lines.append(line.strip())\n",
        "        if curr:\n",
        "            seqs[curr] = ''.join(lines)\n",
        "    return seqs\n",
        "\n",
        "def parse_annotations(path):\n",
        "    ann_map, all_ec = {}, set()\n",
        "    with open(path) as f:\n",
        "        for ln in f:\n",
        "            if ln.startswith('### PDB-chain'):\n",
        "                break\n",
        "        for ln in f:\n",
        "            if not ln.strip() or ln.startswith('#'): continue\n",
        "            pid, ecs = ln.strip().split('\\t')\n",
        "            ec_list = [e.strip() for e in ecs.split(',') if e.strip()]\n",
        "            ann_map[pid] = ec_list\n",
        "            all_ec.update(ec_list)\n",
        "    classes = sorted(all_ec)\n",
        "    return ann_map, classes\n",
        "\n",
        "def build_df(ids, seqs, ann_map, classes):\n",
        "    rows = []\n",
        "    for pid in ids:\n",
        "        seq = seqs.get(pid, '')\n",
        "        if not seq:\n",
        "            print(f\"Warning: {pid} not found\")\n",
        "            continue\n",
        "        labels = [1 if ec in ann_map.get(pid, []) else 0 for ec in classes]\n",
        "        rows.append({'id': pid, 'sequence': seq, 'labels': labels})\n",
        "    return pd.DataFrame(rows)"
      ],
      "metadata": {
        "id": "C0wSTjxupV4o"
      },
      "execution_count": 12,
      "outputs": []
    },
    {
      "cell_type": "code",
      "source": [
        "from google.colab import files\n",
        "uploaded = files.upload()\n"
      ],
      "metadata": {
        "colab": {
          "base_uri": "https://localhost:8080/",
          "height": 179
        },
        "id": "N5M4wrrAKhpv",
        "outputId": "c5fb5a46-6f61-4b28-992f-9f8bba57ad16"
      },
      "execution_count": 13,
      "outputs": [
        {
          "output_type": "display_data",
          "data": {
            "text/plain": [
              "<IPython.core.display.HTML object>"
            ],
            "text/html": [
              "\n",
              "     <input type=\"file\" id=\"files-5901ac89-3492-46ec-bc31-ab5b98d9f16c\" name=\"files[]\" multiple disabled\n",
              "        style=\"border:none\" />\n",
              "     <output id=\"result-5901ac89-3492-46ec-bc31-ab5b98d9f16c\">\n",
              "      Upload widget is only available when the cell has been executed in the\n",
              "      current browser session. Please rerun this cell to enable.\n",
              "      </output>\n",
              "      <script>// Copyright 2017 Google LLC\n",
              "//\n",
              "// Licensed under the Apache License, Version 2.0 (the \"License\");\n",
              "// you may not use this file except in compliance with the License.\n",
              "// You may obtain a copy of the License at\n",
              "//\n",
              "//      http://www.apache.org/licenses/LICENSE-2.0\n",
              "//\n",
              "// Unless required by applicable law or agreed to in writing, software\n",
              "// distributed under the License is distributed on an \"AS IS\" BASIS,\n",
              "// WITHOUT WARRANTIES OR CONDITIONS OF ANY KIND, either express or implied.\n",
              "// See the License for the specific language governing permissions and\n",
              "// limitations under the License.\n",
              "\n",
              "/**\n",
              " * @fileoverview Helpers for google.colab Python module.\n",
              " */\n",
              "(function(scope) {\n",
              "function span(text, styleAttributes = {}) {\n",
              "  const element = document.createElement('span');\n",
              "  element.textContent = text;\n",
              "  for (const key of Object.keys(styleAttributes)) {\n",
              "    element.style[key] = styleAttributes[key];\n",
              "  }\n",
              "  return element;\n",
              "}\n",
              "\n",
              "// Max number of bytes which will be uploaded at a time.\n",
              "const MAX_PAYLOAD_SIZE = 100 * 1024;\n",
              "\n",
              "function _uploadFiles(inputId, outputId) {\n",
              "  const steps = uploadFilesStep(inputId, outputId);\n",
              "  const outputElement = document.getElementById(outputId);\n",
              "  // Cache steps on the outputElement to make it available for the next call\n",
              "  // to uploadFilesContinue from Python.\n",
              "  outputElement.steps = steps;\n",
              "\n",
              "  return _uploadFilesContinue(outputId);\n",
              "}\n",
              "\n",
              "// This is roughly an async generator (not supported in the browser yet),\n",
              "// where there are multiple asynchronous steps and the Python side is going\n",
              "// to poll for completion of each step.\n",
              "// This uses a Promise to block the python side on completion of each step,\n",
              "// then passes the result of the previous step as the input to the next step.\n",
              "function _uploadFilesContinue(outputId) {\n",
              "  const outputElement = document.getElementById(outputId);\n",
              "  const steps = outputElement.steps;\n",
              "\n",
              "  const next = steps.next(outputElement.lastPromiseValue);\n",
              "  return Promise.resolve(next.value.promise).then((value) => {\n",
              "    // Cache the last promise value to make it available to the next\n",
              "    // step of the generator.\n",
              "    outputElement.lastPromiseValue = value;\n",
              "    return next.value.response;\n",
              "  });\n",
              "}\n",
              "\n",
              "/**\n",
              " * Generator function which is called between each async step of the upload\n",
              " * process.\n",
              " * @param {string} inputId Element ID of the input file picker element.\n",
              " * @param {string} outputId Element ID of the output display.\n",
              " * @return {!Iterable<!Object>} Iterable of next steps.\n",
              " */\n",
              "function* uploadFilesStep(inputId, outputId) {\n",
              "  const inputElement = document.getElementById(inputId);\n",
              "  inputElement.disabled = false;\n",
              "\n",
              "  const outputElement = document.getElementById(outputId);\n",
              "  outputElement.innerHTML = '';\n",
              "\n",
              "  const pickedPromise = new Promise((resolve) => {\n",
              "    inputElement.addEventListener('change', (e) => {\n",
              "      resolve(e.target.files);\n",
              "    });\n",
              "  });\n",
              "\n",
              "  const cancel = document.createElement('button');\n",
              "  inputElement.parentElement.appendChild(cancel);\n",
              "  cancel.textContent = 'Cancel upload';\n",
              "  const cancelPromise = new Promise((resolve) => {\n",
              "    cancel.onclick = () => {\n",
              "      resolve(null);\n",
              "    };\n",
              "  });\n",
              "\n",
              "  // Wait for the user to pick the files.\n",
              "  const files = yield {\n",
              "    promise: Promise.race([pickedPromise, cancelPromise]),\n",
              "    response: {\n",
              "      action: 'starting',\n",
              "    }\n",
              "  };\n",
              "\n",
              "  cancel.remove();\n",
              "\n",
              "  // Disable the input element since further picks are not allowed.\n",
              "  inputElement.disabled = true;\n",
              "\n",
              "  if (!files) {\n",
              "    return {\n",
              "      response: {\n",
              "        action: 'complete',\n",
              "      }\n",
              "    };\n",
              "  }\n",
              "\n",
              "  for (const file of files) {\n",
              "    const li = document.createElement('li');\n",
              "    li.append(span(file.name, {fontWeight: 'bold'}));\n",
              "    li.append(span(\n",
              "        `(${file.type || 'n/a'}) - ${file.size} bytes, ` +\n",
              "        `last modified: ${\n",
              "            file.lastModifiedDate ? file.lastModifiedDate.toLocaleDateString() :\n",
              "                                    'n/a'} - `));\n",
              "    const percent = span('0% done');\n",
              "    li.appendChild(percent);\n",
              "\n",
              "    outputElement.appendChild(li);\n",
              "\n",
              "    const fileDataPromise = new Promise((resolve) => {\n",
              "      const reader = new FileReader();\n",
              "      reader.onload = (e) => {\n",
              "        resolve(e.target.result);\n",
              "      };\n",
              "      reader.readAsArrayBuffer(file);\n",
              "    });\n",
              "    // Wait for the data to be ready.\n",
              "    let fileData = yield {\n",
              "      promise: fileDataPromise,\n",
              "      response: {\n",
              "        action: 'continue',\n",
              "      }\n",
              "    };\n",
              "\n",
              "    // Use a chunked sending to avoid message size limits. See b/62115660.\n",
              "    let position = 0;\n",
              "    do {\n",
              "      const length = Math.min(fileData.byteLength - position, MAX_PAYLOAD_SIZE);\n",
              "      const chunk = new Uint8Array(fileData, position, length);\n",
              "      position += length;\n",
              "\n",
              "      const base64 = btoa(String.fromCharCode.apply(null, chunk));\n",
              "      yield {\n",
              "        response: {\n",
              "          action: 'append',\n",
              "          file: file.name,\n",
              "          data: base64,\n",
              "        },\n",
              "      };\n",
              "\n",
              "      let percentDone = fileData.byteLength === 0 ?\n",
              "          100 :\n",
              "          Math.round((position / fileData.byteLength) * 100);\n",
              "      percent.textContent = `${percentDone}% done`;\n",
              "\n",
              "    } while (position < fileData.byteLength);\n",
              "  }\n",
              "\n",
              "  // All done.\n",
              "  yield {\n",
              "    response: {\n",
              "      action: 'complete',\n",
              "    }\n",
              "  };\n",
              "}\n",
              "\n",
              "scope.google = scope.google || {};\n",
              "scope.google.colab = scope.google.colab || {};\n",
              "scope.google.colab._files = {\n",
              "  _uploadFiles,\n",
              "  _uploadFilesContinue,\n",
              "};\n",
              "})(self);\n",
              "</script> "
            ]
          },
          "metadata": {}
        },
        {
          "output_type": "stream",
          "name": "stdout",
          "text": [
            "Saving annotations.tsv to annotations (2).tsv\n",
            "Saving sequences.fasta to sequences (2).fasta\n",
            "Saving train.txt to train (2).txt\n",
            "Saving validation.txt to validation (2).txt\n"
          ]
        }
      ]
    },
    {
      "cell_type": "code",
      "source": [
        "train_ids = [l.strip() for l in open('train.txt') if l.strip()]\n",
        "val_ids   = [l.strip() for l in open('validation.txt') if l.strip()]"
      ],
      "metadata": {
        "id": "1ZcJ1IpoGs_3"
      },
      "execution_count": 14,
      "outputs": []
    },
    {
      "cell_type": "code",
      "source": [
        "db_seqs = parse_fasta('sequences.fasta')\n",
        "ann_map, classes = parse_annotations('annotations.tsv')"
      ],
      "metadata": {
        "id": "uua4wTbmGvAj"
      },
      "execution_count": 15,
      "outputs": []
    },
    {
      "cell_type": "code",
      "source": [
        "df_train = build_df(train_ids, db_seqs, ann_map, classes)\n",
        "df_val   = build_df(val_ids,   db_seqs, ann_map, classes)"
      ],
      "metadata": {
        "id": "jjx-6avvG4Wy"
      },
      "execution_count": 16,
      "outputs": []
    },
    {
      "cell_type": "code",
      "source": [
        "aa_list = list(\"ACDEFGHIKLMNPQRSTVWY\")\n",
        "aa2idx = {aa: i+1 for i, aa in enumerate(aa_list)}\n",
        "pad_idx = 0\n",
        "unk_idx = len(aa_list) + 1\n",
        "\n",
        "def seq_to_indices(seq):\n",
        "    return [aa2idx.get(res, unk_idx) for res in seq]\n",
        "\n",
        "class ProteinDataset(Dataset):\n",
        "    def __init__(self, df):\n",
        "        self.seqs = [seq_to_indices(s) for s in df['sequence']]\n",
        "        self.labels = torch.tensor(df['labels'].tolist(), dtype=torch.float32)\n",
        "    def __len__(self): return len(self.seqs)\n",
        "    def __getitem__(self, idx):\n",
        "        return torch.tensor(self.seqs[idx], dtype=torch.long), self.labels[idx]"
      ],
      "metadata": {
        "id": "GRcX0Gi2HFid"
      },
      "execution_count": 17,
      "outputs": []
    },
    {
      "cell_type": "code",
      "source": [
        "def collate_fn(batch):\n",
        "    seqs, labs = zip(*batch)\n",
        "    padded = pad_sequence(seqs, batch_first=True, padding_value=pad_idx)\n",
        "    return padded, torch.stack(labs)\n",
        "\n",
        "\n",
        "device = torch.device('cuda' if torch.cuda.is_available() else 'cpu')\n",
        "batch_size = 32\n",
        "train_ds = ProteinDataset(df_train)\n",
        "val_ds   = ProteinDataset(df_val)\n",
        "train_loader = DataLoader(train_ds, batch_size=batch_size, shuffle=True, collate_fn=collate_fn)\n",
        "val_loader   = DataLoader(val_ds,   batch_size=batch_size, collate_fn=collate_fn)"
      ],
      "metadata": {
        "id": "euSOVKLjHQEe"
      },
      "execution_count": 18,
      "outputs": []
    },
    {
      "cell_type": "code",
      "source": [
        "class ECModel(nn.Module):\n",
        "    def __init__(self, num_tokens, embed_dim, num_classes):\n",
        "        super().__init__()\n",
        "        self.embed = nn.Embedding(num_tokens+1, embed_dim, padding_idx=pad_idx)\n",
        "        self.classifier = nn.Sequential(\n",
        "            nn.Linear(embed_dim, 256),\n",
        "            nn.ReLU(),\n",
        "            nn.Dropout(0.1),\n",
        "            nn.Linear(256, num_classes)\n",
        "        )\n",
        "\n",
        "    def forward(self, x):\n",
        "        # x: [B, L]\n",
        "        mask = (x != pad_idx).float()\n",
        "        emb = self.embed(x)                # [B, L, E]\n",
        "        summed = (emb * mask.unsqueeze(-1)).sum(1)\n",
        "        lens = mask.sum(1, keepdim=True)\n",
        "        pooled = summed / lens             # [B, E]\n",
        "        return self.classifier(pooled)"
      ],
      "metadata": {
        "id": "uVuQfxW5HVwh"
      },
      "execution_count": 19,
      "outputs": []
    },
    {
      "cell_type": "code",
      "source": [
        "model = ECModel(num_tokens=unk_idx, embed_dim=128, num_classes=len(classes)).to(device)\n",
        "opt = optim.AdamW(model.parameters(), lr=1e-3)\n",
        "crit = nn.BCEWithLogitsLoss()"
      ],
      "metadata": {
        "id": "PAbyGQ3aHX91"
      },
      "execution_count": 20,
      "outputs": []
    },
    {
      "cell_type": "code",
      "source": [
        "epochs = 10\n",
        "for ep in range(1, epochs+1):\n",
        "    model.train(); total_loss = 0\n",
        "    for seqs, labs in train_loader:\n",
        "        seqs, labs = seqs.to(device), labs.to(device)\n",
        "        logits = model(seqs)\n",
        "        loss = crit(logits, labs)\n",
        "        opt.zero_grad(); loss.backward(); opt.step()\n",
        "        total_loss += loss.item() * seqs.size(0)\n",
        "    print(f\"Epoch {ep} Train Loss: {total_loss/len(train_ds):.4f}\")\n",
        "\n",
        "    model.eval(); preds, targs = [], []\n",
        "    with torch.no_grad():\n",
        "        for seqs, labs in val_loader:\n",
        "            seqs = seqs.to(device)\n",
        "            logit = model(seqs)\n",
        "            prob = torch.sigmoid(logit).cpu()\n",
        "            preds.append(prob);\n",
        "            targs.append(labs)\n",
        "    preds = torch.vstack(preds).numpy() > 0.5\n",
        "    targs = torch.vstack(targs).numpy() > 0.5\n",
        "    print(\n",
        "        \"Val P, R, F1=\",\n",
        "        precision_score(targs, preds, average='micro', zero_division=0),\n",
        "        recall_score(targs, preds, average='micro', zero_division=0),\n",
        "        f1_score(targs, preds, average='micro', zero_division=0)\n",
        "    )"
      ],
      "metadata": {
        "colab": {
          "base_uri": "https://localhost:8080/"
        },
        "id": "e6if8lNHHe4n",
        "outputId": "bee9bddb-97bc-4f9c-919a-6d9598e8eb4a"
      },
      "execution_count": 21,
      "outputs": [
        {
          "output_type": "stream",
          "name": "stdout",
          "text": [
            "Epoch 1 Train Loss: 0.0392\n",
            "Val P, R, F1= 0.0 0.0 0.0\n",
            "Epoch 2 Train Loss: 0.0178\n",
            "Val P, R, F1= 0.6111111111111112 0.0037187288708586883 0.00739247311827957\n",
            "Epoch 3 Train Loss: 0.0172\n",
            "Val P, R, F1= 0.5757575757575758 0.006423258958755916 0.012704781009695755\n",
            "Epoch 4 Train Loss: 0.0168\n",
            "Val P, R, F1= 0.5 0.005409060175794456 0.010702341137123745\n",
            "Epoch 5 Train Loss: 0.0164\n",
            "Val P, R, F1= 0.625 0.010141987829614604 0.01996007984031936\n",
            "Epoch 6 Train Loss: 0.0161\n",
            "Val P, R, F1= 0.6052631578947368 0.00777552400270453 0.015353805073431242\n",
            "Epoch 7 Train Loss: 0.0158\n",
            "Val P, R, F1= 0.717391304347826 0.011156186612576065 0.021970705725699067\n",
            "Epoch 8 Train Loss: 0.0155\n",
            "Val P, R, F1= 0.6417910447761194 0.0145368492224476 0.028429752066115702\n",
            "Epoch 9 Train Loss: 0.0153\n",
            "Val P, R, F1= 0.6973684210526315 0.017917511832319134 0.03493737640079104\n",
            "Epoch 10 Train Loss: 0.0150\n",
            "Val P, R, F1= 0.7164179104477612 0.016227180527383367 0.031735537190082645\n"
          ]
        }
      ]
    },
    {
      "cell_type": "code",
      "source": [
        "model.eval()\n",
        "all_true, all_pred = [], []\n",
        "with torch.no_grad():\n",
        "    for seqs, labs in val_loader:\n",
        "        seqs = seqs.to(device)\n",
        "        logits = model(seqs)\n",
        "        probs  = torch.sigmoid(logits).cpu()\n",
        "        all_true.append(labs)\n",
        "        all_pred.append((probs > 0.5).int())\n",
        "\n",
        "true = torch.cat(all_true, dim=0)\n",
        "pred = torch.cat(all_pred, dim=0)\n",
        "\n",
        "rows = []\n",
        "for pid, trow, prow in zip(val_ids, true, pred):\n",
        "    true_ecs = [c for c, flag in zip(classes, trow) if flag]\n",
        "    pred_ecs = [c for c, flag in zip(classes, prow) if flag]\n",
        "    rows.append({\n",
        "        'strain': pid,\n",
        "        'validation EC class': ';'.join(true_ecs) or '-',\n",
        "        'predicted': ';'.join(pred_ecs) or '-'\n",
        "    })\n",
        "\n",
        "results_df = pd.DataFrame(rows, columns=['strain', 'validation EC class', 'predicted'])\n",
        "print(results_df)"
      ],
      "metadata": {
        "colab": {
          "base_uri": "https://localhost:8080/"
        },
        "id": "V6w6LYQwTV6Z",
        "outputId": "b3d795ce-2991-4b96-a499-a35f4544e66a"
      },
      "execution_count": 22,
      "outputs": [
        {
          "output_type": "stream",
          "name": "stdout",
          "text": [
            "        strain validation EC class predicted\n",
            "0       1EF9-A             4.1.1.-         -\n",
            "1       4BYF-A             3.6.4.-         -\n",
            "2       1MVP-A            3.4.23.-         -\n",
            "3       2BIH-A             1.7.1.-         -\n",
            "4     6UE0-AAA     4.3.3.-;4.3.3.7         -\n",
            "...        ...                 ...       ...\n",
            "1724    2F9R-A             4.6.1.-         -\n",
            "1725    1QQW-A   1.11.1.-;1.11.1.6         -\n",
            "1726    6AHR-E   3.1.26.-;3.1.26.5         -\n",
            "1727    2BJI-A    3.1.3.-;3.1.3.25         -\n",
            "1728    3BAL-A           1.13.11.-         -\n",
            "\n",
            "[1729 rows x 3 columns]\n"
          ]
        }
      ]
    },
    {
      "cell_type": "code",
      "source": [
        "pip install transformers torch\n"
      ],
      "metadata": {
        "colab": {
          "base_uri": "https://localhost:8080/"
        },
        "id": "s_qhknWZMXCv",
        "outputId": "69454d75-974a-4ab0-8c45-ff38b5166528"
      },
      "execution_count": 23,
      "outputs": [
        {
          "output_type": "stream",
          "name": "stdout",
          "text": [
            "Requirement already satisfied: transformers in /usr/local/lib/python3.11/dist-packages (4.51.3)\n",
            "Requirement already satisfied: torch in /usr/local/lib/python3.11/dist-packages (2.6.0+cu124)\n",
            "Requirement already satisfied: filelock in /usr/local/lib/python3.11/dist-packages (from transformers) (3.18.0)\n",
            "Requirement already satisfied: huggingface-hub<1.0,>=0.30.0 in /usr/local/lib/python3.11/dist-packages (from transformers) (0.30.2)\n",
            "Requirement already satisfied: numpy>=1.17 in /usr/local/lib/python3.11/dist-packages (from transformers) (2.0.2)\n",
            "Requirement already satisfied: packaging>=20.0 in /usr/local/lib/python3.11/dist-packages (from transformers) (24.2)\n",
            "Requirement already satisfied: pyyaml>=5.1 in /usr/local/lib/python3.11/dist-packages (from transformers) (6.0.2)\n",
            "Requirement already satisfied: regex!=2019.12.17 in /usr/local/lib/python3.11/dist-packages (from transformers) (2024.11.6)\n",
            "Requirement already satisfied: requests in /usr/local/lib/python3.11/dist-packages (from transformers) (2.32.3)\n",
            "Requirement already satisfied: tokenizers<0.22,>=0.21 in /usr/local/lib/python3.11/dist-packages (from transformers) (0.21.1)\n",
            "Requirement already satisfied: safetensors>=0.4.3 in /usr/local/lib/python3.11/dist-packages (from transformers) (0.5.3)\n",
            "Requirement already satisfied: tqdm>=4.27 in /usr/local/lib/python3.11/dist-packages (from transformers) (4.67.1)\n",
            "Requirement already satisfied: typing-extensions>=4.10.0 in /usr/local/lib/python3.11/dist-packages (from torch) (4.13.2)\n",
            "Requirement already satisfied: networkx in /usr/local/lib/python3.11/dist-packages (from torch) (3.4.2)\n",
            "Requirement already satisfied: jinja2 in /usr/local/lib/python3.11/dist-packages (from torch) (3.1.6)\n",
            "Requirement already satisfied: fsspec in /usr/local/lib/python3.11/dist-packages (from torch) (2025.3.2)\n",
            "Requirement already satisfied: nvidia-cuda-nvrtc-cu12==12.4.127 in /usr/local/lib/python3.11/dist-packages (from torch) (12.4.127)\n",
            "Requirement already satisfied: nvidia-cuda-runtime-cu12==12.4.127 in /usr/local/lib/python3.11/dist-packages (from torch) (12.4.127)\n",
            "Requirement already satisfied: nvidia-cuda-cupti-cu12==12.4.127 in /usr/local/lib/python3.11/dist-packages (from torch) (12.4.127)\n",
            "Requirement already satisfied: nvidia-cudnn-cu12==9.1.0.70 in /usr/local/lib/python3.11/dist-packages (from torch) (9.1.0.70)\n",
            "Requirement already satisfied: nvidia-cublas-cu12==12.4.5.8 in /usr/local/lib/python3.11/dist-packages (from torch) (12.4.5.8)\n",
            "Requirement already satisfied: nvidia-cufft-cu12==11.2.1.3 in /usr/local/lib/python3.11/dist-packages (from torch) (11.2.1.3)\n",
            "Requirement already satisfied: nvidia-curand-cu12==10.3.5.147 in /usr/local/lib/python3.11/dist-packages (from torch) (10.3.5.147)\n",
            "Requirement already satisfied: nvidia-cusolver-cu12==11.6.1.9 in /usr/local/lib/python3.11/dist-packages (from torch) (11.6.1.9)\n",
            "Requirement already satisfied: nvidia-cusparse-cu12==12.3.1.170 in /usr/local/lib/python3.11/dist-packages (from torch) (12.3.1.170)\n",
            "Requirement already satisfied: nvidia-cusparselt-cu12==0.6.2 in /usr/local/lib/python3.11/dist-packages (from torch) (0.6.2)\n",
            "Requirement already satisfied: nvidia-nccl-cu12==2.21.5 in /usr/local/lib/python3.11/dist-packages (from torch) (2.21.5)\n",
            "Requirement already satisfied: nvidia-nvtx-cu12==12.4.127 in /usr/local/lib/python3.11/dist-packages (from torch) (12.4.127)\n",
            "Requirement already satisfied: nvidia-nvjitlink-cu12==12.4.127 in /usr/local/lib/python3.11/dist-packages (from torch) (12.4.127)\n",
            "Requirement already satisfied: triton==3.2.0 in /usr/local/lib/python3.11/dist-packages (from torch) (3.2.0)\n",
            "Requirement already satisfied: sympy==1.13.1 in /usr/local/lib/python3.11/dist-packages (from torch) (1.13.1)\n",
            "Requirement already satisfied: mpmath<1.4,>=1.1.0 in /usr/local/lib/python3.11/dist-packages (from sympy==1.13.1->torch) (1.3.0)\n",
            "Requirement already satisfied: MarkupSafe>=2.0 in /usr/local/lib/python3.11/dist-packages (from jinja2->torch) (3.0.2)\n",
            "Requirement already satisfied: charset-normalizer<4,>=2 in /usr/local/lib/python3.11/dist-packages (from requests->transformers) (3.4.1)\n",
            "Requirement already satisfied: idna<4,>=2.5 in /usr/local/lib/python3.11/dist-packages (from requests->transformers) (3.10)\n",
            "Requirement already satisfied: urllib3<3,>=1.21.1 in /usr/local/lib/python3.11/dist-packages (from requests->transformers) (2.3.0)\n",
            "Requirement already satisfied: certifi>=2017.4.17 in /usr/local/lib/python3.11/dist-packages (from requests->transformers) (2025.1.31)\n"
          ]
        }
      ]
    },
    {
      "cell_type": "code",
      "source": [
        "pip install transformers torch scikit-learn\n"
      ],
      "metadata": {
        "colab": {
          "base_uri": "https://localhost:8080/"
        },
        "id": "WuC2D9ASMr3f",
        "outputId": "4f4d0349-c2f7-4e65-fe22-1b18f0cb30a7"
      },
      "execution_count": 24,
      "outputs": [
        {
          "output_type": "stream",
          "name": "stdout",
          "text": [
            "Requirement already satisfied: transformers in /usr/local/lib/python3.11/dist-packages (4.51.3)\n",
            "Requirement already satisfied: torch in /usr/local/lib/python3.11/dist-packages (2.6.0+cu124)\n",
            "Requirement already satisfied: scikit-learn in /usr/local/lib/python3.11/dist-packages (1.6.1)\n",
            "Requirement already satisfied: filelock in /usr/local/lib/python3.11/dist-packages (from transformers) (3.18.0)\n",
            "Requirement already satisfied: huggingface-hub<1.0,>=0.30.0 in /usr/local/lib/python3.11/dist-packages (from transformers) (0.30.2)\n",
            "Requirement already satisfied: numpy>=1.17 in /usr/local/lib/python3.11/dist-packages (from transformers) (2.0.2)\n",
            "Requirement already satisfied: packaging>=20.0 in /usr/local/lib/python3.11/dist-packages (from transformers) (24.2)\n",
            "Requirement already satisfied: pyyaml>=5.1 in /usr/local/lib/python3.11/dist-packages (from transformers) (6.0.2)\n",
            "Requirement already satisfied: regex!=2019.12.17 in /usr/local/lib/python3.11/dist-packages (from transformers) (2024.11.6)\n",
            "Requirement already satisfied: requests in /usr/local/lib/python3.11/dist-packages (from transformers) (2.32.3)\n",
            "Requirement already satisfied: tokenizers<0.22,>=0.21 in /usr/local/lib/python3.11/dist-packages (from transformers) (0.21.1)\n",
            "Requirement already satisfied: safetensors>=0.4.3 in /usr/local/lib/python3.11/dist-packages (from transformers) (0.5.3)\n",
            "Requirement already satisfied: tqdm>=4.27 in /usr/local/lib/python3.11/dist-packages (from transformers) (4.67.1)\n",
            "Requirement already satisfied: typing-extensions>=4.10.0 in /usr/local/lib/python3.11/dist-packages (from torch) (4.13.2)\n",
            "Requirement already satisfied: networkx in /usr/local/lib/python3.11/dist-packages (from torch) (3.4.2)\n",
            "Requirement already satisfied: jinja2 in /usr/local/lib/python3.11/dist-packages (from torch) (3.1.6)\n",
            "Requirement already satisfied: fsspec in /usr/local/lib/python3.11/dist-packages (from torch) (2025.3.2)\n",
            "Requirement already satisfied: nvidia-cuda-nvrtc-cu12==12.4.127 in /usr/local/lib/python3.11/dist-packages (from torch) (12.4.127)\n",
            "Requirement already satisfied: nvidia-cuda-runtime-cu12==12.4.127 in /usr/local/lib/python3.11/dist-packages (from torch) (12.4.127)\n",
            "Requirement already satisfied: nvidia-cuda-cupti-cu12==12.4.127 in /usr/local/lib/python3.11/dist-packages (from torch) (12.4.127)\n",
            "Requirement already satisfied: nvidia-cudnn-cu12==9.1.0.70 in /usr/local/lib/python3.11/dist-packages (from torch) (9.1.0.70)\n",
            "Requirement already satisfied: nvidia-cublas-cu12==12.4.5.8 in /usr/local/lib/python3.11/dist-packages (from torch) (12.4.5.8)\n",
            "Requirement already satisfied: nvidia-cufft-cu12==11.2.1.3 in /usr/local/lib/python3.11/dist-packages (from torch) (11.2.1.3)\n",
            "Requirement already satisfied: nvidia-curand-cu12==10.3.5.147 in /usr/local/lib/python3.11/dist-packages (from torch) (10.3.5.147)\n",
            "Requirement already satisfied: nvidia-cusolver-cu12==11.6.1.9 in /usr/local/lib/python3.11/dist-packages (from torch) (11.6.1.9)\n",
            "Requirement already satisfied: nvidia-cusparse-cu12==12.3.1.170 in /usr/local/lib/python3.11/dist-packages (from torch) (12.3.1.170)\n",
            "Requirement already satisfied: nvidia-cusparselt-cu12==0.6.2 in /usr/local/lib/python3.11/dist-packages (from torch) (0.6.2)\n",
            "Requirement already satisfied: nvidia-nccl-cu12==2.21.5 in /usr/local/lib/python3.11/dist-packages (from torch) (2.21.5)\n",
            "Requirement already satisfied: nvidia-nvtx-cu12==12.4.127 in /usr/local/lib/python3.11/dist-packages (from torch) (12.4.127)\n",
            "Requirement already satisfied: nvidia-nvjitlink-cu12==12.4.127 in /usr/local/lib/python3.11/dist-packages (from torch) (12.4.127)\n",
            "Requirement already satisfied: triton==3.2.0 in /usr/local/lib/python3.11/dist-packages (from torch) (3.2.0)\n",
            "Requirement already satisfied: sympy==1.13.1 in /usr/local/lib/python3.11/dist-packages (from torch) (1.13.1)\n",
            "Requirement already satisfied: mpmath<1.4,>=1.1.0 in /usr/local/lib/python3.11/dist-packages (from sympy==1.13.1->torch) (1.3.0)\n",
            "Requirement already satisfied: scipy>=1.6.0 in /usr/local/lib/python3.11/dist-packages (from scikit-learn) (1.14.1)\n",
            "Requirement already satisfied: joblib>=1.2.0 in /usr/local/lib/python3.11/dist-packages (from scikit-learn) (1.4.2)\n",
            "Requirement already satisfied: threadpoolctl>=3.1.0 in /usr/local/lib/python3.11/dist-packages (from scikit-learn) (3.6.0)\n",
            "Requirement already satisfied: MarkupSafe>=2.0 in /usr/local/lib/python3.11/dist-packages (from jinja2->torch) (3.0.2)\n",
            "Requirement already satisfied: charset-normalizer<4,>=2 in /usr/local/lib/python3.11/dist-packages (from requests->transformers) (3.4.1)\n",
            "Requirement already satisfied: idna<4,>=2.5 in /usr/local/lib/python3.11/dist-packages (from requests->transformers) (3.10)\n",
            "Requirement already satisfied: urllib3<3,>=1.21.1 in /usr/local/lib/python3.11/dist-packages (from requests->transformers) (2.3.0)\n",
            "Requirement already satisfied: certifi>=2017.4.17 in /usr/local/lib/python3.11/dist-packages (from requests->transformers) (2025.1.31)\n"
          ]
        }
      ]
    },
    {
      "cell_type": "code",
      "source": [
        "with open('validation.txt', 'r') as f:\n",
        "    validation_ids = [line.strip() for line in f.readlines()]\n",
        "\n",
        "validation_sequences = [db_seqs[protein_id] for protein_id in validation_ids if protein_id in db_seqs]\n",
        "print(f\"First 5 validation sequences: {validation_sequences[:5]}\")\n"
      ],
      "metadata": {
        "colab": {
          "base_uri": "https://localhost:8080/"
        },
        "id": "u7gAYkicOKrG",
        "outputId": "60dd1da3-c170-4834-8d58-8ec8039baa96"
      },
      "execution_count": 25,
      "outputs": [
        {
          "output_type": "stream",
          "name": "stdout",
          "text": [
            "First 5 validation sequences: ['MSYQYVNVVTINKVAVIEFNYGRKLNALSKVFIDDLMQALSDLNRPEIRCIILRAPSGSKVFSAGHDIHELPSGGRDPLSYDDPLRQITRMIQKFPKPIISMVEGSVWGGAFEMIMSSDLIIAASTSTFSMTPVNLGVPYNLVGIHNLTRDAGFHIVKELIFTASPITAQRALAVGILNHVVEVEELEDFTLQMAHHISEKAPLAIAVIKEELRVLGEAHTMNSDEFERIQGMRRAVYDSEDYQEGMNAFLEKRKPNFVGH', 'MESALTARDRVGVQDFVLLENFTSEAAFIENLRRRFRENLIYTYIGPVLVSVNPYRDLQIYSRQHMERYRGVSFYEVPPHLFAVADTVYRALRTERRDQAVMISGESGAGKTEATKRLLQFYAETCPAPERGGAVRDRLLQSNPVLEAFGNAKTLRNDNSSRFGKYMDVQFDFKGAPVGGHILSYLLEKSRVVHQNHGERNFHIFYQLLEGGEEETLRRLGLERNPQSYLYLVKGQCAKVSSINDKSDWKVVRKALTVIDFTEDEVEDLLSIVASVLHLGNIHFAANEESNAQVTTENQLKYLTRLLSVEGSTLREALTHRKIIAKGEELLSPLNLEQAAYARDALAKAVYSRTFTWLVGKINRSLASKDVESPSWRSTTVLGLLDIYGFEVFQHNSFEQFCINYCNEKLQQLFIELTLKSEQEEYEAEGIAWEPVQYFNNKIICDLVEEKFKGIISILDEECLRPGEATDLTFLEKLEDTVKHHPHFLTHKLADQRTRKSLGRGEFRLLHYAGEVTYSVTGFLDKNNDLLFRNLKETMCSSKNPIMSQCFDRSELSDKKRPETVATQFKMSLLQLVEILQSKEPAYVRCIKPNDAKQPGRFDEVLIRHQVKYLGLLENLRVRRAGFAYRRKYEAFLQRYKSLCPETWPTWAGRPQDGVAVLVRHLGYKPEEYKMGRTKIFIRFPKTLFATEDALEVRRQSLATKIQAAWRGFHWRQKFLRVKRS', 'LAMTMEHKDRPLVRVILTNTGSHPVKQRSVYITALLDSGADITIISEEDWPTDWPVMEAANPQIHGIGGGIPMRKSRDMIEVGVINRDGSLERPLLLFPAVAMVRGSILGRDCLQGLGLRLTNL', 'GLEHHHHHHQDITELPFPVRQDSPLTEVLPTDLKTKDNFVARDPDLLRLTGSHPFNSEPPLTKLYDSGFLTPVSLHFVRNHGPVPYVPDENILDWEVSIEGMVETPYKIKLSDIMEQFDIYSTPVTMVCAGNRRKEQNMVKKGAGFNWGAAGTSTSLWTGCMLGDVIGKARPSKRARFVWMEGADNPANGAYGTCIRLSWCMDPERCIMIAYQQNGEWLHPDHGKPLRVVIPGVIGGRSVKWLKKLVVSDRPSENWYHYFDNRVLPTMVTPEMAKSDDRWWKDERYAIYDLNLQTIICKPENQQVIKISEDEYEIAGFGYNGGGVRIGRIEVSLDKGKSWKLADIDYPEDRYREAGYFRLFGGLVNVCDRMSCLCWCFWKLKVPLSELARSKDILIRGMDERMMVQPRTMYWNVTSMLNNWWYRVAIIREGESLRFEHPVVANKPGGWMDRVKAEGGDILDNNWGEVDDTGQAG', 'MGSSHHHHHHSSGLVPRGSHMASMTGGQQMGRGSMFTGSIVALVTPMDENGNVCRTSLKKLIDYHVANGTSAIVSVGTTGESATLSHEEHGDVVMMTLELADGRIPVIAGTGANATAEAISLTKRFNDSGVVGCLTVTPYYNRPTQEGLFQHFKAIAEHTDLPQILYNVPSRTGCDMLPETVGRLAEIKNIVGIKEATGNLSRVHQIKELVSDDFILLSGDDATGMDFMQLGGVGVISVTANVAAREMADMCRLALAGQFAEARAINQRLMPLHTKLFVEPNPIPVKWGCKALGLVATDTLRLPMTPITDHGREAVTAALKHAGLL']\n"
          ]
        }
      ]
    },
    {
      "cell_type": "code",
      "source": [
        "pip install biopython\n"
      ],
      "metadata": {
        "colab": {
          "base_uri": "https://localhost:8080/"
        },
        "id": "gSUmszGsSyte",
        "outputId": "c7b13ba1-6a4e-462a-85dc-63249277c504"
      },
      "execution_count": 26,
      "outputs": [
        {
          "output_type": "stream",
          "name": "stdout",
          "text": [
            "Requirement already satisfied: biopython in /usr/local/lib/python3.11/dist-packages (1.85)\n",
            "Requirement already satisfied: numpy in /usr/local/lib/python3.11/dist-packages (from biopython) (2.0.2)\n"
          ]
        }
      ]
    },
    {
      "cell_type": "code",
      "source": [
        "from transformers import BertTokenizer, BertModel\n",
        "import torch\n",
        "from Bio import SeqIO\n",
        "\n",
        "tokenizer = BertTokenizer.from_pretrained(\"Rostlab/prot_bert\")\n",
        "model = BertModel.from_pretrained(\"Rostlab/prot_bert\")\n",
        "\n",
        "def get_embeddings_batch(sequences, batch_size=8):\n",
        "    embeddings = []\n",
        "    for i in range(0, len(sequences), batch_size):\n",
        "        batch = sequences[i:i + batch_size]\n",
        "        inputs = tokenizer(batch, return_tensors=\"pt\", padding=True, truncation=True, max_length=512)\n",
        "        with torch.no_grad():\n",
        "            outputs = model(**inputs)\n",
        "        batch_embeddings = outputs.last_hidden_state.mean(dim=1)\n",
        "        embeddings.append(batch_embeddings)\n",
        "    return torch.cat(embeddings, dim=0)\n",
        "\n",
        "train_sequences = [db_seqs[protein_id] for protein_id in train_ids if protein_id in db_seqs]\n",
        "validation_sequences = [db_seqs[protein_id] for protein_id in val_ids if protein_id in db_seqs]\n",
        "\n",
        "train_embeddings = get_embeddings_batch(train_sequences, batch_size=8)\n",
        "validation_embeddings = get_embeddings_batch(validation_sequences, batch_size=8)\n",
        "\n",
        "print(f\"Train embeddings shape: {train_embeddings.shape}\")\n",
        "print(f\"Validation embeddings shape: {validation_embeddings.shape}\")\n",
        "\n"
      ],
      "metadata": {
        "colab": {
          "base_uri": "https://localhost:8080/"
        },
        "id": "LLOj22OHNgs0",
        "outputId": "e440558d-7057-4707-bda5-8f312a6af54a"
      },
      "execution_count": 27,
      "outputs": [
        {
          "output_type": "stream",
          "name": "stdout",
          "text": [
            "Train embeddings shape: torch.Size([15551, 1024])\n",
            "Validation embeddings shape: torch.Size([1729, 1024])\n"
          ]
        }
      ]
    },
    {
      "cell_type": "code",
      "source": [
        "import torch\n",
        "\n",
        "label_to_idx = {label: idx for idx, label in enumerate(classes)}\n",
        "\n",
        "def encode_labels(labels, label_to_idx):\n",
        "    encoded_labels = torch.zeros(len(label_to_idx), dtype=torch.float32)\n",
        "    for label in labels:\n",
        "        if label in label_to_idx:\n",
        "            encoded_labels[label_to_idx[label]] = 1.0\n",
        "    return encoded_labels\n",
        "\n",
        "train_labels = [encode_labels(ann_map[protein_id], label_to_idx) for protein_id in train_ids if protein_id in ann_map]\n",
        "validation_labels = [encode_labels(ann_map[protein_id], label_to_idx) for protein_id in validation_ids if protein_id in ann_map]\n",
        "\n",
        "train_labels = torch.stack(train_labels)\n",
        "validation_labels = torch.stack(validation_labels)\n",
        "\n",
        "print(f\"Sample train labels: {train_labels[:5]}\")\n",
        "print(f\"Sample validation labels: {validation_labels[:5]}\")\n",
        "\n"
      ],
      "metadata": {
        "colab": {
          "base_uri": "https://localhost:8080/"
        },
        "id": "Kp2Vca2gY-F6",
        "outputId": "dfcc5e9a-ac4d-4d8c-f509-96f92a745e31"
      },
      "execution_count": 30,
      "outputs": [
        {
          "output_type": "stream",
          "name": "stdout",
          "text": [
            "Sample train labels: tensor([[0., 0., 0.,  ..., 0., 0., 0.],\n",
            "        [0., 0., 0.,  ..., 0., 0., 0.],\n",
            "        [0., 0., 0.,  ..., 0., 0., 0.],\n",
            "        [0., 0., 0.,  ..., 0., 0., 0.],\n",
            "        [0., 0., 0.,  ..., 0., 0., 0.]])\n",
            "Sample validation labels: tensor([[0., 0., 0.,  ..., 0., 0., 0.],\n",
            "        [0., 0., 0.,  ..., 0., 0., 0.],\n",
            "        [0., 0., 0.,  ..., 0., 0., 0.],\n",
            "        [0., 0., 0.,  ..., 0., 0., 0.],\n",
            "        [0., 0., 0.,  ..., 0., 0., 0.]])\n"
          ]
        }
      ]
    },
    {
      "cell_type": "code",
      "source": [
        "print(f\"Train labels (sample): {train_labels[:5]}\")\n",
        "print(f\"Validation labels (sample): {validation_labels[:5]}\")\n",
        "\n",
        "train_non_zero = torch.sum(train_labels != 0).item()\n",
        "validation_non_zero = torch.sum(validation_labels != 0).item()\n",
        "\n",
        "print(f\"Number of non-zero labels in train set: {train_non_zero}\")\n",
        "print(f\"Number of non-zero labels in validation set: {validation_non_zero}\")\n"
      ],
      "metadata": {
        "colab": {
          "base_uri": "https://localhost:8080/"
        },
        "id": "VmcQlxcYZywO",
        "outputId": "b5f4ea25-3800-4971-d2b9-7c532cb9b27b"
      },
      "execution_count": 31,
      "outputs": [
        {
          "output_type": "stream",
          "name": "stdout",
          "text": [
            "Train labels (sample): tensor([[0., 0., 0.,  ..., 0., 0., 0.],\n",
            "        [0., 0., 0.,  ..., 0., 0., 0.],\n",
            "        [0., 0., 0.,  ..., 0., 0., 0.],\n",
            "        [0., 0., 0.,  ..., 0., 0., 0.],\n",
            "        [0., 0., 0.,  ..., 0., 0., 0.]])\n",
            "Validation labels (sample): tensor([[0., 0., 0.,  ..., 0., 0., 0.],\n",
            "        [0., 0., 0.,  ..., 0., 0., 0.],\n",
            "        [0., 0., 0.,  ..., 0., 0., 0.],\n",
            "        [0., 0., 0.,  ..., 0., 0., 0.],\n",
            "        [0., 0., 0.,  ..., 0., 0., 0.]])\n",
            "Number of non-zero labels in train set: 25953\n",
            "Number of non-zero labels in validation set: 2958\n"
          ]
        }
      ]
    },
    {
      "cell_type": "code",
      "source": [
        "import torch.nn as nn\n",
        "from sklearn.metrics import accuracy_score, f1_score\n",
        "\n",
        "class MultiLabelClassifier(nn.Module):\n",
        "    def __init__(self, input_dim, output_dim):\n",
        "        super(MultiLabelClassifier, self).__init__()\n",
        "        self.fc = nn.Linear(input_dim, output_dim)\n",
        "        self.sigmoid = nn.Sigmoid()\n",
        "\n",
        "    def forward(self, x):\n",
        "        x = self.fc(x)\n",
        "        return self.sigmoid(x)\n",
        "\n",
        "model = MultiLabelClassifier(input_dim=1024, output_dim=len(classes))\n",
        "criterion = nn.BCELoss()\n",
        "optimizer = torch.optim.Adam(model.parameters(), lr=0.001)\n",
        "\n",
        "num_epochs = 5\n",
        "for epoch in range(num_epochs):\n",
        "    model.train()\n",
        "    optimizer.zero_grad()\n",
        "    outputs = model(train_embeddings)\n",
        "    loss = criterion(outputs, train_labels)\n",
        "    loss.backward()\n",
        "    optimizer.step()\n",
        "    print(f\"Epoch [{epoch+1}/{num_epochs}], Loss: {loss.item()}\")\n",
        "\n",
        "model.eval()\n",
        "y_pred = model(validation_embeddings).detach().numpy()\n",
        "y_pred_bin = (y_pred > 0.5).astype(int)\n",
        "\n",
        "accuracy = accuracy_score(validation_labels.numpy(), y_pred_bin)\n",
        "f1 = f1_score(validation_labels.numpy(), y_pred_bin, average='micro')\n",
        "\n",
        "print(f\"Validation Accuracy: {accuracy:.4f}\")\n",
        "print(f\"Validation F1 Score: {f1:.4f}\")\n"
      ],
      "metadata": {
        "colab": {
          "base_uri": "https://localhost:8080/"
        },
        "id": "iTKgViGdZ72v",
        "outputId": "f67f2c38-2e5b-4c60-924b-61d229eeeb57"
      },
      "execution_count": 32,
      "outputs": [
        {
          "output_type": "stream",
          "name": "stdout",
          "text": [
            "Epoch [1/5], Loss: 0.6930159330368042\n",
            "Epoch [2/5], Loss: 0.6550070643424988\n",
            "Epoch [3/5], Loss: 0.6185622811317444\n",
            "Epoch [4/5], Loss: 0.5836995840072632\n",
            "Epoch [5/5], Loss: 0.5504286885261536\n",
            "Validation Accuracy: 0.0000\n",
            "Validation F1 Score: 0.0000\n"
          ]
        }
      ]
    },
    {
      "cell_type": "code",
      "source": [
        "outputs = model(validation_embeddings).detach().numpy()\n",
        "print(f\"Sample validation outputs: {outputs[:5]}\")\n"
      ],
      "metadata": {
        "colab": {
          "base_uri": "https://localhost:8080/"
        },
        "id": "3sVAwRI3aGzQ",
        "outputId": "acc22746-7e45-4bb1-b5fb-3f960984e4e4"
      },
      "execution_count": 33,
      "outputs": [
        {
          "output_type": "stream",
          "name": "stdout",
          "text": [
            "Sample validation outputs: [[0.41795582 0.39203125 0.40690354 ... 0.39991197 0.39684358 0.3970675 ]\n",
            " [0.41795582 0.39203125 0.40690354 ... 0.39991197 0.39684358 0.3970675 ]\n",
            " [0.41795582 0.39203125 0.40690354 ... 0.39991197 0.39684358 0.3970675 ]\n",
            " [0.41795582 0.39203125 0.40690354 ... 0.39991197 0.39684358 0.3970675 ]\n",
            " [0.41795582 0.39203125 0.40690354 ... 0.39991197 0.39684358 0.3970675 ]]\n"
          ]
        }
      ]
    },
    {
      "cell_type": "code",
      "source": [
        "import matplotlib.pyplot as plt\n",
        "\n",
        "plt.hist(train_labels.numpy().sum(axis=1), bins=50)\n",
        "plt.title('Distribution of Non-Zero Labels in Training Set')\n",
        "plt.xlabel('Number of Non-Zero Labels per Protein')\n",
        "plt.ylabel('Frequency')\n",
        "plt.show()\n"
      ],
      "metadata": {
        "colab": {
          "base_uri": "https://localhost:8080/",
          "height": 472
        },
        "id": "fB6SgJWjaRgs",
        "outputId": "b9141118-8659-4da3-f853-4b22703d44f2"
      },
      "execution_count": 34,
      "outputs": [
        {
          "output_type": "display_data",
          "data": {
            "text/plain": [
              "<Figure size 640x480 with 1 Axes>"
            ],
            "image/png": "[encoded data removed]"
          },
          "metadata": {}
        }
      ]
    }
  ]
}
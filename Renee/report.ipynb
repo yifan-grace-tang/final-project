{
  "nbformat": 4,
  "nbformat_minor": 0,
  "metadata": {
    "colab": {
      "provenance": [],
      "gpuType": "A100",
      "include_colab_link": true
    },
    "kernelspec": {
      "name": "python3",
      "display_name": "Python 3"
    },
    "language_info": {
      "name": "python"
    },
    "accelerator": "GPU"
  },
  "cells": [
    {
      "cell_type": "markdown",
      "metadata": {
        "id": "view-in-github",
        "colab_type": "text"
      },
      "source": [
        "<a href=\"https://colab.research.google.com/github/yifan-grace-tang/final-project/blob/main/Renee/report.ipynb\" target=\"_parent\"><img src=\"https://colab.research.google.com/assets/colab-badge.svg\" alt=\"Open In Colab\"/></a>"
      ]
    },
    {
      "cell_type": "markdown",
      "source": [
        "\n",
        "<table style=\"background-color: transparent; border: none;\">   \n",
        "  <tr>     \n",
        "    <td><img src=\"https://cdn.prod.website-files.com/6606dc3fd5f6645318003df4/6678476dc198b5a75b8c8873_ES_Logo_Black_5.png\" width=\"100\" alt=\"img\"/></td>     \n",
        "    <td><h1>Custom Embeddings + <code>XGBoost</code></h1></td>   \n",
        "  </tr>\n",
        "</table>\n",
        "\n",
        "</br>\n",
        "\n",
        "__Updated On: `04.04`__\n",
        "\n",
        "\n",
        "__Key Notes:__\n",
        "\n",
        "- This model is a complete overhaul from previous implementations focusing on `NN` (_Neural Network_) implementations.\n",
        "- Here we explore the capabilities of [_XGBoost_](https://xgboost.readthedocs.io/en/release_3.0.0/) and [_Random Search_](https://www.yourdatateacher.com/2021/05/19/hyperparameter-tuning-grid-search-and-random-search/) hyperparameter tuning.\n",
        "- Validated __Spearman__ from Gradescope: `0.44`\n",
        "\n"
      ],
      "metadata": {
        "id": "uBt3dG1NTU-Y"
      }
    },
    {
      "cell_type": "markdown",
      "source": [
        "---\n",
        "\n",
        "### Required Imports"
      ],
      "metadata": {
        "id": "7mly98Y9ZsAw"
      }
    },
    {
      "cell_type": "code",
      "source": [
        "from copy import deepcopy\n",
        "import pandas as pd\n",
        "import os\n",
        "import time\n",
        "import shutil\n",
        "import numpy as np\n",
        "from tqdm import tqdm\n",
        "\n",
        "import torch\n",
        "import torch.nn as nn\n",
        "import torch.nn.functional as F\n",
        "import torch.optim as optim\n",
        "from torch.utils.data import Dataset, DataLoader, Subset\n",
        "from scipy.stats import spearmanr\n",
        "import xgboost as xgb\n",
        "from sklearn.model_selection import train_test_split, RandomizedSearchCV\n",
        "from sklearn.metrics import make_scorer, mean_squared_error"
      ],
      "metadata": {
        "id": "tH5HCnGBZ0N9"
      },
      "execution_count": null,
      "outputs": []
    },
    {
      "cell_type": "markdown",
      "source": [
        "---\n",
        "\n",
        "### Data Collection and Cleaning\n"
      ],
      "metadata": {
        "id": "XM770OPIaFeA"
      }
    },
    {
      "cell_type": "markdown",
      "source": [
        "\n",
        "> __This section relies on having a `sequence.fasta`, `train.csv`, `query.csv` and `test.csv` in your runtime.__\n",
        "\n",
        "We can start by looking at our _sequence_ from the `sequence.fasta` file and analyzing its composition and length. Our _sequence_ will be the entry-point to generate mutated sequences from coded mutations as discussed later."
      ],
      "metadata": {
        "id": "tSyyllmRbviV"
      }
    },
    {
      "cell_type": "code",
      "source": [
        "def parse_fasta(filename):\n",
        "    seqs = {}\n",
        "    with open(filename, 'r') as f:\n",
        "        current_id = None\n",
        "        current_seq = []\n",
        "        for line in f:\n",
        "            line = line.strip()\n",
        "            if line.startswith(\">\"):\n",
        "                if current_id is not None:\n",
        "                    seqs[current_id] = ''.join(current_seq)\n",
        "                current_id = line[1:]  # remove the \">\"\n",
        "                current_seq = []\n",
        "            else:\n",
        "                current_seq.append(line)\n",
        "        # Add the last entry\n",
        "        if current_id is not None:\n",
        "            seqs[current_id] = ''.join(current_seq)\n",
        "    return seqs\n",
        "\n",
        "seq_dict = parse_fasta(\"nrPDB-EC_2020.04_sequences.fasta\")\n",
        "seq_dict = {k.split(' nrPDB')[0]: v for k, v in seq_dict.items()}"
      ],
      "metadata": {
        "id": "OAbEZmTfq_JV"
      },
      "execution_count": 19,
      "outputs": []
    },
    {
      "cell_type": "markdown",
      "source": [
        "Load train/valid splits"
      ],
      "metadata": {
        "id": "iOilEjqvbxiW"
      }
    },
    {
      "cell_type": "code",
      "source": [
        "# Load train and validation protein IDs\n",
        "train_ids = pd.read_csv(\"nrPDB-EC_2020.04_train.txt\", header=None, names=[\"PDB-chain\"])\n",
        "valid_ids = pd.read_csv(\"nrPDB-EC_2020.04_valid.txt\", header=None, names=[\"PDB-chain\"])\n",
        "\n",
        "print(train_ids.head(5))\n",
        "print(valid_ids.head(5))"
      ],
      "metadata": {
        "id": "7JLXOI5HcP7N",
        "colab": {
          "base_uri": "https://localhost:8080/"
        },
        "outputId": "8a241e11-3a38-4677-d5d9-f56c1c6a7805"
      },
      "execution_count": 20,
      "outputs": [
        {
          "output_type": "stream",
          "name": "stdout",
          "text": [
            "  PDB-chain\n",
            "0    1R9W-A\n",
            "1    3U7V-A\n",
            "2    1CK7-A\n",
            "3    6FLM-A\n",
            "4    2WBK-A\n",
            "  PDB-chain\n",
            "0    1EF9-A\n",
            "1    4BYF-A\n",
            "2    1MVP-A\n",
            "3    2BIH-A\n",
            "4  6UE0-AAA\n"
          ]
        }
      ]
    },
    {
      "cell_type": "code",
      "source": [
        "df_annot = pd.read_csv(\n",
        "    \"nrPDB-EC_2020.04_annot.tsv\",\n",
        "    sep=\"\\t\",\n",
        "    skiprows=3,  # Skip the first two rows\n",
        "    names=[\"PDB-chain\", \"EC-nums\"]  # Set column names manually\n",
        ")\n",
        "\n",
        "df_annot['EC-nums'] = df_annot['EC-nums'].apply(lambda x: x.split(','))\n",
        "print(df_annot.head())"
      ],
      "metadata": {
        "colab": {
          "base_uri": "https://localhost:8080/"
        },
        "id": "RcOl8YpypqL5",
        "outputId": "4d0abe65-1c66-4234-f5ce-cf3399d3bab1"
      },
      "execution_count": 21,
      "outputs": [
        {
          "output_type": "stream",
          "name": "stdout",
          "text": [
            "  PDB-chain              EC-nums\n",
            "0    4PR3-A   [3.2.2.9, 3.2.2.-]\n",
            "1    1TNT-A  [6.5.1.-, 3.1.22.-]\n",
            "2    1T8A-A  [3.2.1.17, 3.2.1.-]\n",
            "3    5H75-A            [4.1.1.-]\n",
            "4    2FOR-A  [2.5.1.-, 2.5.1.10]\n"
          ]
        }
      ]
    },
    {
      "cell_type": "code",
      "source": [
        "df_train = df_annot[df_annot['PDB-chain'].isin(train_ids['PDB-chain'])].copy()\n",
        "df_valid = df_annot[df_annot['PDB-chain'].isin(valid_ids['PDB-chain'])].copy()\n",
        "\n",
        "df_train['sequence'] = df_train['PDB-chain'].map(seq_dict)\n",
        "df_valid['sequence'] = df_valid['PDB-chain'].map(seq_dict)\n",
        "\n",
        "print(df_train.head())\n",
        "print(df_valid.head())"
      ],
      "metadata": {
        "id": "23XbY88TqhLa",
        "colab": {
          "base_uri": "https://localhost:8080/"
        },
        "outputId": "c0aa5798-e6c5-4848-b3c7-a59802982dad"
      },
      "execution_count": 23,
      "outputs": [
        {
          "output_type": "stream",
          "name": "stdout",
          "text": [
            "  PDB-chain              EC-nums  \\\n",
            "0    4PR3-A   [3.2.2.9, 3.2.2.-]   \n",
            "1    1TNT-A  [6.5.1.-, 3.1.22.-]   \n",
            "2    1T8A-A  [3.2.1.17, 3.2.1.-]   \n",
            "3    5H75-A            [4.1.1.-]   \n",
            "6    4XL3-A            [2.1.3.-]   \n",
            "\n",
            "                                            sequence  \n",
            "0  MHHHHHHHHGVDLGTENLYFQSNAMKTVAGKRLLYVMAADAEYGRH...  \n",
            "1  MELWVSPKELANLPGLPKTSAGVIYVAKKQGWQNRTRAGVKGGKAI...  \n",
            "2  MNIFEMLRIDEGLRLKIYKDTEGYYTIGIGHLLTKSPSINAAKSEL...  \n",
            "3  GSGGGGSMSISILKDKKLLIGICGSISSVGISSYLLYFKSFFKEIR...  \n",
            "6  MKEVVIASAVRTAIGSYGKSLKDVPAVDLGATAIKEAVKKAGIKPE...  \n",
            "   PDB-chain                EC-nums  \\\n",
            "5     1Z7L-A              [6.2.1.-]   \n",
            "12    1ZXA-A  [2.7.11.12, 2.7.11.-]   \n",
            "26    3K13-A              [2.1.1.-]   \n",
            "33    3QWZ-A     [3.6.4.6, 3.6.4.-]   \n",
            "77    1SFE-A              [2.1.1.-]   \n",
            "\n",
            "                                             sequence  \n",
            "5   MGHHHHHHEFEKSIPICTLKNFPNAIEHTLQWARDEFEGLFKQPAE...  \n",
            "12  GSPGIPGSTSELEEDFAKILMLKEERIKELEKRLSEKEEEIQELKR...  \n",
            "26  SNALEVKPEINFVNIGERCNVAGSRKFLRLVNEKKYDEALSIARQQ...  \n",
            "33  GSHMASGADSKGDDLSTAILKQKNRPNRLIVDEAINEDNSVVSLSQ...  \n",
            "77  MTAKQFRHGGENLAVRYALADCELGRCLVAESERGICAILLGDDDA...  \n"
          ]
        }
      ]
    },
    {
      "cell_type": "code",
      "source": [
        "# Define the amino acids (20 standard ones)\n",
        "amino_acids = 'ACDEFGHIKLMNPQRSTVWXY'\n",
        "\n",
        "def one_hot_encode(sequence, length=1000):\n",
        "    encoding = np.zeros((length, len(amino_acids)), dtype=int)\n",
        "    for i, aa in enumerate(sequence[:length]):\n",
        "        if aa in amino_acids:\n",
        "            encoding[i, amino_acids.index(aa)] = 1\n",
        "    return encoding.flatten()  # Flatten to a 1D array\n",
        "\n",
        "# Apply the one-hot encoding to the sequence column\n",
        "df_train['sequence_encoded'] = df_train['sequence'].apply(lambda x: one_hot_encode(x))\n",
        "df_valid['sequence_encoded'] = df_valid['sequence'].apply(lambda x: one_hot_encode(x))\n",
        "\n",
        "# Check the result\n",
        "print(df_train.head())"
      ],
      "metadata": {
        "colab": {
          "base_uri": "https://localhost:8080/"
        },
        "id": "A1j70fhEsFbk",
        "outputId": "f4411ae6-6355-4bd6-893f-7a5e08eea975"
      },
      "execution_count": 24,
      "outputs": [
        {
          "output_type": "stream",
          "name": "stdout",
          "text": [
            "  PDB-chain              EC-nums  \\\n",
            "0    4PR3-A   [3.2.2.9, 3.2.2.-]   \n",
            "1    1TNT-A  [6.5.1.-, 3.1.22.-]   \n",
            "2    1T8A-A  [3.2.1.17, 3.2.1.-]   \n",
            "3    5H75-A            [4.1.1.-]   \n",
            "6    4XL3-A            [2.1.3.-]   \n",
            "\n",
            "                                            sequence  \\\n",
            "0  MHHHHHHHHGVDLGTENLYFQSNAMKTVAGKRLLYVMAADAEYGRH...   \n",
            "1  MELWVSPKELANLPGLPKTSAGVIYVAKKQGWQNRTRAGVKGGKAI...   \n",
            "2  MNIFEMLRIDEGLRLKIYKDTEGYYTIGIGHLLTKSPSINAAKSEL...   \n",
            "3  GSGGGGSMSISILKDKKLLIGICGSISSVGISSYLLYFKSFFKEIR...   \n",
            "6  MKEVVIASAVRTAIGSYGKSLKDVPAVDLGATAIKEAVKKAGIKPE...   \n",
            "\n",
            "                                    sequence_encoded  \n",
            "0  [0, 0, 0, 0, 0, 0, 0, 0, 0, 0, 1, 0, 0, 0, 0, ...  \n",
            "1  [0, 0, 0, 0, 0, 0, 0, 0, 0, 0, 1, 0, 0, 0, 0, ...  \n",
            "2  [0, 0, 0, 0, 0, 0, 0, 0, 0, 0, 1, 0, 0, 0, 0, ...  \n",
            "3  [0, 0, 0, 0, 0, 1, 0, 0, 0, 0, 0, 0, 0, 0, 0, ...  \n",
            "6  [0, 0, 0, 0, 0, 0, 0, 0, 0, 0, 1, 0, 0, 0, 0, ...  \n"
          ]
        }
      ]
    },
    {
      "cell_type": "code",
      "source": [
        "from sklearn.ensemble import RandomForestClassifier\n",
        "from sklearn.model_selection import train_test_split\n",
        "from sklearn.metrics import classification_report\n",
        "\n",
        "# Prepare the features and target labels (EC-nums)\n",
        "X_train = np.array(df_train['sequence_encoded'].tolist())\n",
        "y_train = df_train['EC-nums']\n",
        "\n",
        "# Split the data into training and validation sets\n",
        "X_train, X_val, y_train, y_val = train_test_split(X_train, y_train, test_size=0.2, random_state=42)\n",
        "\n",
        "# Train the model\n",
        "model = RandomForestClassifier(n_estimators=100, random_state=42)\n",
        "model.fit(X_train, y_train)\n",
        "\n",
        "# Evaluate the model\n",
        "y_pred = model.predict(X_val)\n",
        "print(classification_report(y_val, y_pred))"
      ],
      "metadata": {
        "colab": {
          "base_uri": "https://localhost:8080/",
          "height": 357
        },
        "id": "2TBsIEmOsNyC",
        "outputId": "75429c7c-bec6-40c4-ec05-e70e89035a34"
      },
      "execution_count": 25,
      "outputs": [
        {
          "output_type": "error",
          "ename": "ValueError",
          "evalue": "Unknown label type: unknown. Maybe you are trying to fit a classifier, which expects discrete classes on a regression target with continuous values.",
          "traceback": [
            "\u001b[0;31m---------------------------------------------------------------------------\u001b[0m",
            "\u001b[0;31mValueError\u001b[0m                                Traceback (most recent call last)",
            "\u001b[0;32m<ipython-input-25-ecca44e3aab3>\u001b[0m in \u001b[0;36m<cell line: 0>\u001b[0;34m()\u001b[0m\n\u001b[1;32m     12\u001b[0m \u001b[0;31m# Train the model\u001b[0m\u001b[0;34m\u001b[0m\u001b[0;34m\u001b[0m\u001b[0m\n\u001b[1;32m     13\u001b[0m \u001b[0mmodel\u001b[0m \u001b[0;34m=\u001b[0m \u001b[0mRandomForestClassifier\u001b[0m\u001b[0;34m(\u001b[0m\u001b[0mn_estimators\u001b[0m\u001b[0;34m=\u001b[0m\u001b[0;36m100\u001b[0m\u001b[0;34m,\u001b[0m \u001b[0mrandom_state\u001b[0m\u001b[0;34m=\u001b[0m\u001b[0;36m42\u001b[0m\u001b[0;34m)\u001b[0m\u001b[0;34m\u001b[0m\u001b[0;34m\u001b[0m\u001b[0m\n\u001b[0;32m---> 14\u001b[0;31m \u001b[0mmodel\u001b[0m\u001b[0;34m.\u001b[0m\u001b[0mfit\u001b[0m\u001b[0;34m(\u001b[0m\u001b[0mX_train\u001b[0m\u001b[0;34m,\u001b[0m \u001b[0my_train\u001b[0m\u001b[0;34m)\u001b[0m\u001b[0;34m\u001b[0m\u001b[0;34m\u001b[0m\u001b[0m\n\u001b[0m\u001b[1;32m     15\u001b[0m \u001b[0;34m\u001b[0m\u001b[0m\n\u001b[1;32m     16\u001b[0m \u001b[0;31m# Evaluate the model\u001b[0m\u001b[0;34m\u001b[0m\u001b[0;34m\u001b[0m\u001b[0m\n",
            "\u001b[0;32m/usr/local/lib/python3.11/dist-packages/sklearn/base.py\u001b[0m in \u001b[0;36mwrapper\u001b[0;34m(estimator, *args, **kwargs)\u001b[0m\n\u001b[1;32m   1387\u001b[0m                 )\n\u001b[1;32m   1388\u001b[0m             ):\n\u001b[0;32m-> 1389\u001b[0;31m                 \u001b[0;32mreturn\u001b[0m \u001b[0mfit_method\u001b[0m\u001b[0;34m(\u001b[0m\u001b[0mestimator\u001b[0m\u001b[0;34m,\u001b[0m \u001b[0;34m*\u001b[0m\u001b[0margs\u001b[0m\u001b[0;34m,\u001b[0m \u001b[0;34m**\u001b[0m\u001b[0mkwargs\u001b[0m\u001b[0;34m)\u001b[0m\u001b[0;34m\u001b[0m\u001b[0;34m\u001b[0m\u001b[0m\n\u001b[0m\u001b[1;32m   1390\u001b[0m \u001b[0;34m\u001b[0m\u001b[0m\n\u001b[1;32m   1391\u001b[0m         \u001b[0;32mreturn\u001b[0m \u001b[0mwrapper\u001b[0m\u001b[0;34m\u001b[0m\u001b[0;34m\u001b[0m\u001b[0m\n",
            "\u001b[0;32m/usr/local/lib/python3.11/dist-packages/sklearn/ensemble/_forest.py\u001b[0m in \u001b[0;36mfit\u001b[0;34m(self, X, y, sample_weight)\u001b[0m\n\u001b[1;32m    417\u001b[0m         \u001b[0mself\u001b[0m\u001b[0;34m.\u001b[0m\u001b[0m_n_samples\u001b[0m\u001b[0;34m,\u001b[0m \u001b[0mself\u001b[0m\u001b[0;34m.\u001b[0m\u001b[0mn_outputs_\u001b[0m \u001b[0;34m=\u001b[0m \u001b[0my\u001b[0m\u001b[0;34m.\u001b[0m\u001b[0mshape\u001b[0m\u001b[0;34m\u001b[0m\u001b[0;34m\u001b[0m\u001b[0m\n\u001b[1;32m    418\u001b[0m \u001b[0;34m\u001b[0m\u001b[0m\n\u001b[0;32m--> 419\u001b[0;31m         \u001b[0my\u001b[0m\u001b[0;34m,\u001b[0m \u001b[0mexpanded_class_weight\u001b[0m \u001b[0;34m=\u001b[0m \u001b[0mself\u001b[0m\u001b[0;34m.\u001b[0m\u001b[0m_validate_y_class_weight\u001b[0m\u001b[0;34m(\u001b[0m\u001b[0my\u001b[0m\u001b[0;34m)\u001b[0m\u001b[0;34m\u001b[0m\u001b[0;34m\u001b[0m\u001b[0m\n\u001b[0m\u001b[1;32m    420\u001b[0m \u001b[0;34m\u001b[0m\u001b[0m\n\u001b[1;32m    421\u001b[0m         \u001b[0;32mif\u001b[0m \u001b[0mgetattr\u001b[0m\u001b[0;34m(\u001b[0m\u001b[0my\u001b[0m\u001b[0;34m,\u001b[0m \u001b[0;34m\"dtype\"\u001b[0m\u001b[0;34m,\u001b[0m \u001b[0;32mNone\u001b[0m\u001b[0;34m)\u001b[0m \u001b[0;34m!=\u001b[0m \u001b[0mDOUBLE\u001b[0m \u001b[0;32mor\u001b[0m \u001b[0;32mnot\u001b[0m \u001b[0my\u001b[0m\u001b[0;34m.\u001b[0m\u001b[0mflags\u001b[0m\u001b[0;34m.\u001b[0m\u001b[0mcontiguous\u001b[0m\u001b[0;34m:\u001b[0m\u001b[0;34m\u001b[0m\u001b[0;34m\u001b[0m\u001b[0m\n",
            "\u001b[0;32m/usr/local/lib/python3.11/dist-packages/sklearn/ensemble/_forest.py\u001b[0m in \u001b[0;36m_validate_y_class_weight\u001b[0;34m(self, y)\u001b[0m\n\u001b[1;32m    829\u001b[0m \u001b[0;34m\u001b[0m\u001b[0m\n\u001b[1;32m    830\u001b[0m     \u001b[0;32mdef\u001b[0m \u001b[0m_validate_y_class_weight\u001b[0m\u001b[0;34m(\u001b[0m\u001b[0mself\u001b[0m\u001b[0;34m,\u001b[0m \u001b[0my\u001b[0m\u001b[0;34m)\u001b[0m\u001b[0;34m:\u001b[0m\u001b[0;34m\u001b[0m\u001b[0;34m\u001b[0m\u001b[0m\n\u001b[0;32m--> 831\u001b[0;31m         \u001b[0mcheck_classification_targets\u001b[0m\u001b[0;34m(\u001b[0m\u001b[0my\u001b[0m\u001b[0;34m)\u001b[0m\u001b[0;34m\u001b[0m\u001b[0;34m\u001b[0m\u001b[0m\n\u001b[0m\u001b[1;32m    832\u001b[0m \u001b[0;34m\u001b[0m\u001b[0m\n\u001b[1;32m    833\u001b[0m         \u001b[0my\u001b[0m \u001b[0;34m=\u001b[0m \u001b[0mnp\u001b[0m\u001b[0;34m.\u001b[0m\u001b[0mcopy\u001b[0m\u001b[0;34m(\u001b[0m\u001b[0my\u001b[0m\u001b[0;34m)\u001b[0m\u001b[0;34m\u001b[0m\u001b[0;34m\u001b[0m\u001b[0m\n",
            "\u001b[0;32m/usr/local/lib/python3.11/dist-packages/sklearn/utils/multiclass.py\u001b[0m in \u001b[0;36mcheck_classification_targets\u001b[0;34m(y)\u001b[0m\n\u001b[1;32m    220\u001b[0m         \u001b[0;34m\"multilabel-sequences\"\u001b[0m\u001b[0;34m,\u001b[0m\u001b[0;34m\u001b[0m\u001b[0;34m\u001b[0m\u001b[0m\n\u001b[1;32m    221\u001b[0m     ]:\n\u001b[0;32m--> 222\u001b[0;31m         raise ValueError(\n\u001b[0m\u001b[1;32m    223\u001b[0m             \u001b[0;34mf\"Unknown label type: {y_type}. Maybe you are trying to fit a \"\u001b[0m\u001b[0;34m\u001b[0m\u001b[0;34m\u001b[0m\u001b[0m\n\u001b[1;32m    224\u001b[0m             \u001b[0;34m\"classifier, which expects discrete classes on a \"\u001b[0m\u001b[0;34m\u001b[0m\u001b[0;34m\u001b[0m\u001b[0m\n",
            "\u001b[0;31mValueError\u001b[0m: Unknown label type: unknown. Maybe you are trying to fit a classifier, which expects discrete classes on a regression target with continuous values."
          ]
        }
      ]
    }
  ]
}